{
 "cells": [
  {
   "cell_type": "markdown",
   "metadata": {},
   "source": [
    "# Universidad de Chile\n",
    "### Facultad de Ciencias, Física y Matemáticas\n",
    "### Departamento de Ciencias de la Computación\n",
    "### CC5509 - Reconocimiento de Patrones\n",
    "### Tarea 2 - Optical Character Recognition usando Histogramas de Orientaciones y MultiLayer Perceptron (MLP)\n",
    "### Gabriel De La Parra"
   ]
  },
  {
   "cell_type": "markdown",
   "metadata": {},
   "source": [
    "# Introducción\n",
    "En esta tarea se implementará un OCR para reconocer digitos numéricos utilizando una red neuronal. \n",
    "\n",
    "Al igual que en la tarea 1, se trabajará con digitos provenientes de un RUT Chileno. \n",
    "\n",
    "Esta tarea se implementó en Jupyter Notebook con Python, debido a la facilidad para ejecutar código, crear un informe y mostrar los resultados en un mismo documento.\n",
    "\n",
    "La tarea consiste en entrenar una red neuronal de varias capas (MultiLayer Perceptron) para reconocer dígitos. Este tipo de problemas, de determinar un tipo particular de caso, se le conoce como clasificación. \n",
    "\n",
    "## Procedimiento\n",
    "\n",
    "El primer paso para este proyecto consiste en entrenar la red. El entrenamiento de la red consiste en entregarle a la red un conjunto de ejemplos de entrada, indicándole a que corresponde cada ejemplo. Adicional a lo anterior se define la cantidad de capas de la red y algunos parámetros típicos de una red neuronal.\n",
    "\n",
    "Los ejemplos que se entregarán a la red, en esta tarea se entregarán de dos formas:\n",
    "1. Histograma de orientaciones (Tarea 1).\n",
    "2. Imagen Binaria Vectorizada y reducida.\n",
    "\n",
    "El histograma de orientaciones, como se vió en la tarea 1, consiste en calcular, para cada pixel, el ángulo y la magnitud de la orientación de cambios entre los pixeles vecinos. En dicha tarea se trabajó convirtiendo cada dígito de las imágenes a 16x10 pixeles, posteriormente trabajando con 4 celdas por imagen. Se trabajará de la misma manera para procesar las imágenes con este método.\n",
    "\n",
    "Con respecto al segundo método, el procesamiento es más sencillo. Se convertirá la imagen a 28x28 pixeles y posteriormente se convertirá a un arreglo plano, sin ningún procesamiento más que la binarización.\n",
    "\n",
    "Con ambos métodos se procederá a entrenar la red neuronal. Una vez entrenada la red, se guardará el modelo y posteriormente se utilizará para clasificar los dígitos de un RUT.\n",
    "\n",
    "Dado lo anterior, el procedimiento que se utilizará es el siguiente:\n",
    "1. Entrenar la red neuronal\n",
    "    - Procesar las imágenes de entrada según:\n",
    "        - Histograma de Orientaciones\n",
    "        - Vector de Imagen Binarizada\n",
    "    - Entrenar y validar un modelo con distintos parámetros:\n",
    "        - Cantidad de neuronas ocultas: \n",
    "            - 10\n",
    "            - 20\n",
    "            - 30\n",
    "            - 40\n",
    "            - 50\n",
    "        - Función de activación:\n",
    "            - Sigmoidal\n",
    "            - TanH\n",
    "            - RELU\n",
    "2. Guardar el modelo entrenado usando joblib de sklearn.externals\n",
    "3. Clasificar los dígitos de la imagen"
   ]
  },
  {
   "cell_type": "markdown",
   "metadata": {},
   "source": [
    "# Imports"
   ]
  },
  {
   "cell_type": "code",
   "execution_count": 1,
   "metadata": {
    "collapsed": true
   },
   "outputs": [],
   "source": [
    "# Tarea 1\n",
    "import numpy as np\n",
    "import math\n",
    "import os\n",
    "from scipy import ndimage, signal, misc\n",
    "from skimage import io, morphology, filters, segmentation, measure, color\n",
    "from matplotlib import pyplot as plt, patches\n",
    "%matplotlib inline\n",
    "\n",
    "# Tarea 2\n",
    "from sklearn.neural_network import MLPClassifier\n",
    "from sklearn.externals import  joblib"
   ]
  },
  {
   "cell_type": "markdown",
   "metadata": {},
   "source": [
    "# Refactor Tarea 1\n",
    "En esta parte se trabajará sobre los resultados de la tarea 1. Se extraerán los métodos para el procesamiento de los dígitos que crean los histogramas de orientaciones. \n",
    "\n",
    "Se ha hecho una modificación sobre la tarea anterior, dejando 2x2 celdas por cada imagen (En la tarea anterior se trabajó con 4x4), el procesamiento era mayor, pero en este caso los resultados son más apropiados para el trabajo con todas las imágenes.\n",
    "\n",
    "El procesamiento de los dígitos da como resultado un vector de 36 valores, correspondiente a los 9 bins por 4 celdas en cada imagen. \n",
    "\n",
    "Otra mejora, fue agregar un threshold para aceptar un valor en magnitud. Si la magnitud de cambio entre 2 pixeles no es mayor que dicho umbral, no se toma ese pixel para el histograma. Esto fue una recomendación del profesor.\n",
    "\n",
    "Como se mencionó anteriormente, las imágenes se han reducido a 16x16 para acelerar el proceso de procesamiento en la fase de pruebas. Esto solo para la primera parte del informe, para la versión final, se trabajará con el tamaño completo de la imagen."
   ]
  },
  {
   "cell_type": "code",
   "execution_count": 2,
   "metadata": {
    "collapsed": true
   },
   "outputs": [],
   "source": [
    "maskX = [[-1, 0, 1]]\n",
    "maskY = [[-1], [0], [1]]"
   ]
  },
  {
   "cell_type": "code",
   "execution_count": 3,
   "metadata": {
    "collapsed": true
   },
   "outputs": [],
   "source": [
    "def getOrientAndMags(image):\n",
    "    gradX = signal.convolve(image, maskX, mode = 'same')\n",
    "    gradY = signal.convolve(image, maskY, mode = 'same')\n",
    "    o = (np.arctan2(gradY, gradX)  * 180 / np.pi) %360\n",
    "    m = np.sqrt(gradY**2 + gradX**2)\n",
    "    return o, m"
   ]
  },
  {
   "cell_type": "code",
   "execution_count": 25,
   "metadata": {
    "collapsed": true
   },
   "outputs": [],
   "source": [
    "def histogram(image, kBins, assignment = \"soft\", threshold = 0.5):\n",
    "    hist = np.zeros(kBins, dtype=np.float32)\n",
    "    w, h = image.shape\n",
    "    \n",
    "    o, m = getOrientAndMags(image)\n",
    "    maxVal = np.max(m) * np.max(o)\n",
    "    \n",
    "    for i in range(w):\n",
    "        for j in range(h):\n",
    "            # Skip those with magnitude lower than 'threshold'.\n",
    "            if(m[i,j] > threshold):\n",
    "                calc = (o[i,j] * m[i,j])\n",
    "                if(assignment == \"hard\"):\n",
    "                    kbin = int(round(calc/maxVal*(kBins-1)))\n",
    "                    hist[kbin] += 1.0\n",
    "                else:\n",
    "                    b = calc/maxVal*(kBins-1)\n",
    "                    if(math.isnan(b)):\n",
    "                        b = 0\n",
    "                    dist = b - math.floor(b)\n",
    "                    lbin = math.floor(b)\n",
    "                    rbin = math.ceil(b)\n",
    "                    if(dist < 0.5):\n",
    "                        lw = 0.5 - dist\n",
    "                        rw = 1-lw\n",
    "                    else:\n",
    "                        rw = dist - 0.5\n",
    "                        lw = 1 - rw\n",
    "                    hist[lbin] += lw\n",
    "                    hist[rbin] += rw\n",
    "    return hist"
   ]
  },
  {
   "cell_type": "code",
   "execution_count": 26,
   "metadata": {
    "collapsed": true
   },
   "outputs": [],
   "source": [
    "def fixImagePadding(image, cellSize = (4,4)):\n",
    "    w, h = image.shape\n",
    "    cX, cY = cellSize\n",
    "    padX = cX - (w % cX)\n",
    "    padY = cY - (h % cY)\n",
    "    if(padX == cX): padX = 0\n",
    "    if(padY == cY): padY = 0\n",
    "    paddedImage = np.zeros((w+padX, h+padY))\n",
    "    paddedImage.fill(255)\n",
    "    for x in range(w):\n",
    "        for y in range(h):\n",
    "            paddedImage[x,y] = image[x,y]\n",
    "    return paddedImage"
   ]
  },
  {
   "cell_type": "code",
   "execution_count": 27,
   "metadata": {
    "collapsed": true
   },
   "outputs": [],
   "source": [
    "def getImageCells(image, cellSize = (4,4)):\n",
    "    cells = []\n",
    "    w, h = image.shape\n",
    "    cX, cY = cellSize\n",
    "    for x in range(int(w/cX)):\n",
    "        for y in range(int(h/cY)):\n",
    "            cells.append(image[x*cX:((x+1)*cX), y*cY:((y+1)*cY)])\n",
    "\n",
    "    return cells  "
   ]
  },
  {
   "cell_type": "code",
   "execution_count": 28,
   "metadata": {
    "collapsed": true
   },
   "outputs": [],
   "source": [
    "def concatenateCellsDescriptors(cells, bins = 9):\n",
    "    concat = []\n",
    "    for cell in cells:\n",
    "        hist = histogram(cell, bins, assignment = \"soft\")\n",
    "        for h in hist:\n",
    "            concat.append(h)\n",
    "    return concat"
   ]
  },
  {
   "cell_type": "code",
   "execution_count": 29,
   "metadata": {
    "collapsed": true
   },
   "outputs": [],
   "source": [
    "def plotCellDescriptors(concat, cells):\n",
    "    plt.figure(figsize=(30,10))\n",
    "    concat = concatenateCellsDescriptors(cells)\n",
    "    plt.bar(np.arange(len(concat)), concat)\n",
    "    plt.show()"
   ]
  },
  {
   "cell_type": "code",
   "execution_count": 63,
   "metadata": {
    "collapsed": true
   },
   "outputs": [],
   "source": [
    "def resizeAndGetDigitHistogramDescriptor(digitFilename, w, h, cW, cH, verbose = True):\n",
    "    digit=io.imread(digitFilename)\n",
    "    digitImage = digit\n",
    "    if(w>0 and h >0):\n",
    "        digit = misc.imresize(digit, (w, h))\n",
    "    digit = fixImagePadding(digit, (cW, cH))\n",
    "    cells = getImageCells(digit, (cW, cH))\n",
    "    concat = concatenateCellsDescriptors(cells)\n",
    "    \n",
    "    if(verbose):\n",
    "        plt.imshow(digit, cmap=\"gray\")\n",
    "        print(\"ImageFilename:\", digitFilename)\n",
    "        print(\"original:\", digitImage.shape, \"Resize and padded:\", digit.shape)\n",
    "        print(\"Concatenated histogram length:\", len(concat))\n",
    "        plotCellDescriptors(concat, cells)\n",
    "    \n",
    "    return np.array(concat), cells"
   ]
  },
  {
   "cell_type": "code",
   "execution_count": 64,
   "metadata": {},
   "outputs": [
    {
     "name": "stdout",
     "output_type": "stream",
     "text": [
      "ImageFilename: ./digits_K/train/chr_0/img001-00001.png\n",
      "original: (128, 128) Resize and padded: (16, 16)\n",
      "Concatenated histogram length: 36\n"
     ]
    },
    {
     "data": {
      "image/png": "[encoded data removed]",
      "text/plain": [
       "<matplotlib.figure.Figure at 0xd269208>"
      ]
     },
     "metadata": {},
     "output_type": "display_data"
    },
    {
     "data": {
      "image/png": "[encoded data removed]",
      "text/plain": [
       "<matplotlib.figure.Figure at 0xb0459e8>"
      ]
     },
     "metadata": {},
     "output_type": "display_data"
    }
   ],
   "source": [
    "sampleDigitFilename = \"./digits_K/train/chr_0/img001-00001.png\"\n",
    "concat, cells = resizeAndGetDigitHistogramDescriptor(sampleDigitFilename, 16, 16, 8, 8, verbose = True)"
   ]
  },
  {
   "cell_type": "code",
   "execution_count": 60,
   "metadata": {},
   "outputs": [
    {
     "data": {
      "text/plain": [
       "array([ 15.26013088,  12.02977657,   9.40496063,   5.18296337,\n",
       "         2.0250411 ,   4.4582696 ,   1.4830246 ,   0.15583272,\n",
       "         0.        ,  11.88395691,  15.21132946,  10.27912235,\n",
       "         4.39615154,   2.56636167,   4.66307974,   0.        ,\n",
       "         0.43440887,   0.56559116,  15.22864342,   2.92289186,\n",
       "        15.12734509,   6.76401901,   3.25150323,   4.89886761,\n",
       "         1.80673158,   0.        ,   0.        ,  11.97495174,\n",
       "        16.53761292,   8.88857746,   4.10198212,   5.45810413,\n",
       "         2.03877211,   0.        ,   0.66784531,   0.33215469], dtype=float32)"
      ]
     },
     "execution_count": 60,
     "metadata": {},
     "output_type": "execute_result"
    }
   ],
   "source": [
    "concat, _ = resizeAndGetDigitHistogramDescriptor(sampleDigitFilename, 16, 16, 8, 8, verbose = False)\n",
    "concat"
   ]
  },
  {
   "cell_type": "markdown",
   "metadata": {},
   "source": [
    "# Imagen a Vector Binarizado\n",
    "Se convertirá a la imagen a 28x28 pixeles, se aplicará un Threshold Otsu y se hará un Reshape a un vector de una sola fila."
   ]
  },
  {
   "cell_type": "code",
   "execution_count": 48,
   "metadata": {
    "collapsed": true
   },
   "outputs": [],
   "source": [
    "def getImageVector(digitFilename, w = 28, h = 28):\n",
    "    digitImage=io.imread(digitFilename)\n",
    "    digit = misc.imresize(digitImage, (w, h))\n",
    "    th=filters.threshold_otsu(digit*0.95)\n",
    "    digit = digit > th\n",
    "    return np.reshape(digit, w*h)"
   ]
  },
  {
   "cell_type": "code",
   "execution_count": 66,
   "metadata": {},
   "outputs": [
    {
     "data": {
      "text/plain": [
       "array([ True,  True,  True,  True,  True,  True,  True,  True,  True,\n",
       "        True,  True,  True,  True,  True,  True,  True,  True,  True,\n",
       "        True,  True,  True,  True,  True,  True,  True,  True,  True,\n",
       "        True,  True,  True,  True,  True,  True,  True,  True,  True,\n",
       "        True,  True,  True,  True,  True,  True,  True,  True,  True,\n",
       "        True,  True,  True,  True,  True,  True,  True,  True,  True,\n",
       "        True,  True,  True,  True,  True,  True,  True,  True,  True,\n",
       "        True,  True,  True,  True,  True,  True,  True,  True,  True,\n",
       "        True,  True,  True,  True,  True,  True,  True,  True,  True,\n",
       "        True,  True,  True,  True,  True,  True,  True,  True,  True,\n",
       "        True,  True,  True,  True, False, False, False, False, False, False], dtype=bool)"
      ]
     },
     "execution_count": 66,
     "metadata": {},
     "output_type": "execute_result"
    }
   ],
   "source": [
    "sampleDigitFilename = \"./digits_K/train/chr_0/img001-00001.png\"\n",
    "getImageVector(sampleDigitFilename)[0:100]"
   ]
  },
  {
   "cell_type": "markdown",
   "metadata": {},
   "source": [
    "# Entrenamiento de la MLP\n",
    "Una vez que se tiene completo el procesamiento de los dígitos, será necesario entrenar la Red Neuronal."
   ]
  },
  {
   "cell_type": "markdown",
   "metadata": {},
   "source": [
    "## Get Training Images"
   ]
  },
  {
   "cell_type": "code",
   "execution_count": 75,
   "metadata": {
    "collapsed": true
   },
   "outputs": [],
   "source": [
    "def getfiles(folder, extension):\n",
    "    images = []\n",
    "    for dirpath, dirnames, filenames in os.walk(folder):\n",
    "        for filename in [f for f in filenames if f.endswith(extension)]:\n",
    "            images.append(os.path.join(dirpath, filename))\n",
    "    return images"
   ]
  },
  {
   "cell_type": "code",
   "execution_count": 77,
   "metadata": {
    "collapsed": true
   },
   "outputs": [],
   "source": [
    "def getTrainFiles():\n",
    "    return getfiles(\"./digits_K/train/\", \".png\")\n",
    "\n",
    "def getValidFiles():\n",
    "    return getfiles(\"./digits_K/valid/\", \".png\")"
   ]
  },
  {
   "cell_type": "code",
   "execution_count": 81,
   "metadata": {},
   "outputs": [
    {
     "name": "stdout",
     "output_type": "stream",
     "text": [
      "Train: 6600 Valid: 2200\n"
     ]
    }
   ],
   "source": [
    "trainImageFilenames = getTrainFiles()\n",
    "validImageFilenames = getValidFiles()\n",
    "print(\"Train:\", len(trainImageFilenames), \"Valid:\", len(validImageFilenames))"
   ]
  },
  {
   "cell_type": "code",
   "execution_count": 89,
   "metadata": {},
   "outputs": [
    {
     "data": {
      "text/plain": [
       "'./digits_K/train/chr_0\\\\img001-00001.png'"
      ]
     },
     "execution_count": 89,
     "metadata": {},
     "output_type": "execute_result"
    }
   ],
   "source": [
    "trainImageFilenames[0]"
   ]
  },
  {
   "cell_type": "markdown",
   "metadata": {},
   "source": [
    "## Create Labels for Test/Valid Images"
   ]
  },
  {
   "cell_type": "code",
   "execution_count": 119,
   "metadata": {
    "collapsed": true
   },
   "outputs": [],
   "source": [
    "def getImageLabel(filename, index):\n",
    "    return filename[index]\n",
    "\n",
    "def getTestImageLabel(filename):\n",
    "    return getImageLabel(filename, 21)\n",
    "\n",
    "def getValidImageLabel(filename):\n",
    "    return getImageLabel(filename, 21)"
   ]
  },
  {
   "cell_type": "markdown",
   "metadata": {},
   "source": [
    "## Assemble Test Set"
   ]
  },
  {
   "cell_type": "code",
   "execution_count": 158,
   "metadata": {
    "collapsed": true
   },
   "outputs": [],
   "source": [
    "def getFileSet(filenames, function):\n",
    "    for filename in filenames:\n",
    "        result = function(filename)\n",
    "        yield result\n",
    "\n",
    "def getHistogram(filename):\n",
    "    concat, _ = resizeAndGetDigitHistogramDescriptor(filename, 16, 16, 8, 8, verbose = False)\n",
    "    return concat\n",
    "\n",
    "def getHistogramFileSet(filenames):\n",
    "    return getFileSet(filenames, getHistogram)\n",
    "\n",
    "def getVectorFileSet(filenames):\n",
    "    return getFileSet(filenames, getImageVector)\n",
    "\n",
    "def getTestFileLabels(filenames):\n",
    "    return getFileSet(filenames, getTestImageLabel)\n",
    "\n",
    "def getValidFileLabels(filenames):\n",
    "    return getFileSet(filenames, getValidImageLabel)"
   ]
  },
  {
   "cell_type": "code",
   "execution_count": 162,
   "metadata": {},
   "outputs": [],
   "source": [
    "train_data = list(getVectorFileSet(trainImageFilenames))\n",
    "train_target = list(getTestFileLabels(trainImageFilenames))\n",
    "#test_data = list(getVectorFileSet(validImageFilenames))\n",
    "#test_target = list(getValidFileLabels(validImageFilenames))"
   ]
  },
  {
   "cell_type": "code",
   "execution_count": 165,
   "metadata": {
    "collapsed": true
   },
   "outputs": [],
   "source": [
    "mlp = MLPClassifier(activation='relu', hidden_layer_sizes=(50,), max_iter=500, alpha=1e-4, solver='sgd', verbose=10, tol=1e-4, learning_rate_init=.01)"
   ]
  },
  {
   "cell_type": "code",
   "execution_count": 166,
   "metadata": {},
   "outputs": [
    {
     "name": "stdout",
     "output_type": "stream",
     "text": [
      "Iteration 1, loss = 1.89264988\n",
      "Iteration 2, loss = 0.70567921\n",
      "Iteration 3, loss = 0.39814828\n",
      "Iteration 4, loss = 0.31141720\n",
      "Iteration 5, loss = 0.26481195\n",
      "Iteration 6, loss = 0.23365025\n",
      "Iteration 7, loss = 0.21278926\n",
      "Iteration 8, loss = 0.19316697\n",
      "Iteration 9, loss = 0.18075417\n",
      "Iteration 10, loss = 0.16941522\n",
      "Iteration 11, loss = 0.16065078\n",
      "Iteration 12, loss = 0.14916868\n",
      "Iteration 13, loss = 0.14462519\n",
      "Iteration 14, loss = 0.13523256\n",
      "Iteration 15, loss = 0.12873216\n",
      "Iteration 16, loss = 0.12396255\n",
      "Iteration 17, loss = 0.11947044\n",
      "Iteration 18, loss = 0.11414256\n",
      "Iteration 19, loss = 0.11021838\n",
      "Iteration 20, loss = 0.10724333\n",
      "Iteration 21, loss = 0.10221952\n",
      "Iteration 22, loss = 0.09929608\n",
      "Iteration 23, loss = 0.09531554\n",
      "Iteration 24, loss = 0.09330371\n",
      "Iteration 25, loss = 0.08836422\n",
      "Iteration 26, loss = 0.08700811\n",
      "Iteration 27, loss = 0.08421519\n",
      "Iteration 28, loss = 0.08174067\n",
      "Iteration 29, loss = 0.07993341\n",
      "Iteration 30, loss = 0.07703163\n",
      "Iteration 31, loss = 0.07483754\n",
      "Iteration 32, loss = 0.07360829\n",
      "Iteration 33, loss = 0.07098622\n",
      "Iteration 34, loss = 0.06832113\n",
      "Iteration 35, loss = 0.06901618\n",
      "Iteration 36, loss = 0.06555874\n",
      "Iteration 37, loss = 0.06489503\n",
      "Iteration 38, loss = 0.06430281\n",
      "Iteration 39, loss = 0.06240173\n",
      "Iteration 40, loss = 0.05952039\n",
      "Iteration 41, loss = 0.05911079\n",
      "Iteration 42, loss = 0.05648318\n",
      "Iteration 43, loss = 0.05482253\n",
      "Iteration 44, loss = 0.05371524\n",
      "Iteration 45, loss = 0.05242506\n",
      "Iteration 46, loss = 0.05153839\n",
      "Iteration 47, loss = 0.05070890\n",
      "Iteration 48, loss = 0.05025875\n",
      "Iteration 49, loss = 0.04910600\n",
      "Iteration 50, loss = 0.04835487\n",
      "Iteration 51, loss = 0.04592589\n",
      "Iteration 52, loss = 0.04512462\n",
      "Iteration 53, loss = 0.04400689\n",
      "Iteration 54, loss = 0.04335461\n",
      "Iteration 55, loss = 0.04328990\n",
      "Iteration 56, loss = 0.04244265\n",
      "Iteration 57, loss = 0.04203464\n",
      "Iteration 58, loss = 0.04130634\n",
      "Iteration 59, loss = 0.03997191\n",
      "Iteration 60, loss = 0.03854122\n",
      "Iteration 61, loss = 0.03924122\n",
      "Iteration 62, loss = 0.03737334\n",
      "Iteration 63, loss = 0.03705868\n",
      "Iteration 64, loss = 0.03578715\n",
      "Iteration 65, loss = 0.03561446\n",
      "Iteration 66, loss = 0.03451557\n",
      "Iteration 67, loss = 0.03348864\n",
      "Iteration 68, loss = 0.03321746\n",
      "Iteration 69, loss = 0.03258211\n",
      "Iteration 70, loss = 0.03185654\n",
      "Iteration 71, loss = 0.03173835\n",
      "Iteration 72, loss = 0.03201074\n",
      "Iteration 73, loss = 0.03036866\n",
      "Iteration 74, loss = 0.03070934\n",
      "Iteration 75, loss = 0.02951645\n",
      "Iteration 76, loss = 0.02848256\n",
      "Iteration 77, loss = 0.02789472\n",
      "Iteration 78, loss = 0.02754879\n",
      "Iteration 79, loss = 0.02671007\n",
      "Iteration 80, loss = 0.02671674\n",
      "Iteration 81, loss = 0.02628435\n",
      "Iteration 82, loss = 0.02648166\n",
      "Iteration 83, loss = 0.02506083\n",
      "Iteration 84, loss = 0.02490207\n",
      "Iteration 85, loss = 0.02378973\n",
      "Iteration 86, loss = 0.02407668\n",
      "Iteration 87, loss = 0.02365992\n",
      "Iteration 88, loss = 0.02378898\n",
      "Iteration 89, loss = 0.02339885\n",
      "Iteration 90, loss = 0.02245007\n",
      "Iteration 91, loss = 0.02196552\n",
      "Iteration 92, loss = 0.02152413\n",
      "Iteration 93, loss = 0.02191165\n",
      "Iteration 94, loss = 0.02097702\n",
      "Iteration 95, loss = 0.02109586\n",
      "Iteration 96, loss = 0.02068094\n",
      "Iteration 97, loss = 0.02036332\n",
      "Iteration 98, loss = 0.02081371\n",
      "Iteration 99, loss = 0.01911709\n",
      "Iteration 100, loss = 0.01933192\n"
     ]
    },
    {
     "name": "stderr",
     "output_type": "stream",
     "text": [
      "c:\\anaconda3\\lib\\site-packages\\sklearn\\neural_network\\multilayer_perceptron.py:563: ConvergenceWarning: Stochastic Optimizer: Maximum iterations reached and the optimization hasn't converged yet.\n",
      "  % (), ConvergenceWarning)\n"
     ]
    },
    {
     "data": {
      "text/plain": [
       "MLPClassifier(activation='relu', alpha=0.0001, batch_size='auto', beta_1=0.9,\n",
       "       beta_2=0.999, early_stopping=False, epsilon=1e-08,\n",
       "       hidden_layer_sizes=(50,), learning_rate='constant',\n",
       "       learning_rate_init=0.01, max_iter=100, momentum=0.9,\n",
       "       nesterovs_momentum=True, power_t=0.5, random_state=None,\n",
       "       shuffle=True, solver='sgd', tol=0.0001, validation_fraction=0.1,\n",
       "       verbose=10, warm_start=False)"
      ]
     },
     "execution_count": 166,
     "metadata": {},
     "output_type": "execute_result"
    }
   ],
   "source": [
    "mlp.fit(train_data, train_target)"
   ]
  },
  {
   "cell_type": "code",
   "execution_count": 143,
   "metadata": {
    "collapsed": true
   },
   "outputs": [],
   "source": [
    "imageFilename = \"./test-images/rut_1.png\""
   ]
  },
  {
   "cell_type": "code",
   "execution_count": 12,
   "metadata": {
    "collapsed": true
   },
   "outputs": [],
   "source": [
    "image=io.imread(imageFilename)"
   ]
  },
  {
   "cell_type": "code",
   "execution_count": 13,
   "metadata": {
    "collapsed": true
   },
   "outputs": [],
   "source": [
    "def getSliceTupleArea(sliceTuple):\n",
    "    return (sliceTuple[0].stop - sliceTuple[0].start) * (sliceTuple[1].stop - sliceTuple[1].start)"
   ]
  },
  {
   "cell_type": "code",
   "execution_count": 14,
   "metadata": {},
   "outputs": [],
   "source": [
    "def getImageDigits(imageFilename):\n",
    "    digits = []\n",
    "    #Read\n",
    "    image=io.imread(imageFilename)\n",
    "    #im_bin = np.zeros_like(image)\n",
    "    \n",
    "    #Threshold\n",
    "    th=filters.threshold_otsu(image*0.95)\n",
    "    im_bin = image > th\n",
    "    \n",
    "    #Regions:\n",
    "    mlabels, nlabels = morphology.label(1-im_bin, connectivity=1, return_num=True)\n",
    "    regions = measure.regionprops(mlabels)\n",
    "    \n",
    "    #Regions of Interest\n",
    "    roiList = []\n",
    "    for i in range(1, nlabels + 1):\n",
    "        px, py = ndimage.find_objects(mlabels==i)[0]\n",
    "        roiList.append((px,py))\n",
    "        \n",
    "    #Sort regions by position:\n",
    "    sortedRoi = sorted(roiList, key= lambda x: x[1])\n",
    "    \n",
    "    # Filter small Regions, Pad results:\n",
    "    for j in range(nlabels):\n",
    "        (px, py) = sortedRoi[j]\n",
    "        if(getSliceTupleArea((px,py))>15):\n",
    "            roi = im_bin[px, py].astype(int)*255\n",
    "            digits.append(roi)\n",
    "    \n",
    "    #return\n",
    "    return digits"
   ]
  },
  {
   "cell_type": "code",
   "execution_count": 15,
   "metadata": {
    "collapsed": true
   },
   "outputs": [],
   "source": [
    "def getDigitsHistogramResize(imageFilename, w, h):\n",
    "    hist = []    \n",
    "    digits = getImageDigits(imageFilename)\n",
    "    for digit in digits:\n",
    "        digit = misc.imresize(digit, (w, h))\n",
    "        paddedImage = fixImagePadding(digit)\n",
    "        cells = getImageCells(paddedImage)\n",
    "        concat = concatenateCellsDescriptors(cells)\n",
    "        hist.append(concat)\n",
    "    return hist, digits"
   ]
  },
  {
   "cell_type": "code",
   "execution_count": 16,
   "metadata": {
    "collapsed": true
   },
   "outputs": [],
   "source": [
    "def euclideanDistance(x1, x2, length):\n",
    "    dist = 0\n",
    "    for x in range(length):\n",
    "        dist += pow((x1[x] - x2[x]), 2)\n",
    "    return math.sqrt(dist)"
   ]
  },
  {
   "cell_type": "code",
   "execution_count": null,
   "metadata": {
    "collapsed": true
   },
   "outputs": [],
   "source": []
  }
 ],
 "metadata": {
  "kernelspec": {
   "display_name": "Python [default]",
   "language": "python",
   "name": "python3"
  },
  "language_info": {
   "codemirror_mode": {
    "name": "ipython",
    "version": 3
   },
   "file_extension": ".py",
   "mimetype": "text/x-python",
   "name": "python",
   "nbconvert_exporter": "python",
   "pygments_lexer": "ipython3",
   "version": "3.5.3"
  }
 },
 "nbformat": 4,
 "nbformat_minor": 2
}
