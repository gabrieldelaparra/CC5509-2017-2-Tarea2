{
 "cells": [
  {
   "cell_type": "markdown",
   "metadata": {},
   "source": [
    "# Universidad de Chile\n",
    "### Facultad de Ciencias, Física y Matemáticas\n",
    "### Departamento de Ciencias de la Computación\n",
    "### CC5509 - Reconocimiento de Patrones\n",
    "### Tarea 2 - Optical Character Recognition usando Histogramas de Orientaciones y MultiLayer Perceptron (MLP)\n",
    "### Gabriel De La Parra"
   ]
  },
  {
   "cell_type": "markdown",
   "metadata": {},
   "source": [
    "# Introducción\n",
    "En esta tarea se implementará un OCR para reconocer digitos numéricos utilizando una red neuronal. \n",
    "\n",
    "Al igual que en la tarea 1, se trabajará con digitos provenientes de un RUT Chileno. \n",
    "\n",
    "Esta tarea se implementó en Jupyter Notebook con Python, debido a la facilidad para ejecutar código, crear un informe y mostrar los resultados en un mismo documento.\n",
    "\n",
    "La tarea consiste en entrenar una red neuronal de varias capas (MultiLayer Perceptron) para reconocer dígitos. Este tipo de problemas, de determinar un tipo particular de caso, se le conoce como clasificación. \n",
    "\n",
    "## Procedimiento\n",
    "\n",
    "El primer paso para este proyecto consiste en entrenar la red. El entrenamiento de la red consiste en entregarle a la red un conjunto de ejemplos de entrada, indicándole a que corresponde cada ejemplo. Adicional a lo anterior se define la cantidad de capas de la red y algunos parámetros típicos de una red neuronal.\n",
    "\n",
    "Los ejemplos que se entregarán a la red, en esta tarea se entregarán de dos formas:\n",
    "1. Histograma de orientaciones (Tarea 1).\n",
    "2. Imagen Binaria Vectorizada y reducida.\n",
    "\n",
    "El histograma de orientaciones, como se vió en la tarea 1, consiste en calcular, para cada pixel, el ángulo y la magnitud de la orientación de cambios entre los pixeles vecinos. Se realizaron modificaciones a la tarea 1, esta vez se trabajó con Sobel como fue sugerido anteriormente y con 2 celdas únicamente. También se trabajó con 16 bins en vez de solo 9. Esto dió resultados visiblemente mejores en el histograma.\n",
    "\n",
    "Con respecto al segundo método, el procesamiento es más sencillo. Se convertirá la imagen a 28x28 pixeles y posteriormente se convertirá a un arreglo plano, sin ningún procesamiento más que la binarización.\n",
    "\n",
    "Con ambos métodos se procederá a entrenar la red neuronal. Una vez entrenada la red, se guardará el modelo y posteriormente se utilizará para clasificar los dígitos de un RUT.\n",
    "\n",
    "Dado lo anterior, el procedimiento que se utilizará es el siguiente:\n",
    "1. Entrenar la red neuronal\n",
    "    - Procesar las imágenes de entrada según:\n",
    "        - Histograma de Orientaciones\n",
    "        - Vector de Imagen Binarizada\n",
    "    - Entrenar y validar un modelo con distintos parámetros:\n",
    "        - Cantidad de neuronas ocultas: \n",
    "            - 10\n",
    "            - 20\n",
    "            - 30\n",
    "            - 40\n",
    "            - 50\n",
    "        - Función de activación:\n",
    "            - Sigmoidal (logistic)\n",
    "            - TanH\n",
    "            - RELU\n",
    "2. Guardar el modelo entrenado usando joblib de sklearn.externals\n",
    "3. Clasificar los dígitos de la imagen"
   ]
  },
  {
   "cell_type": "markdown",
   "metadata": {},
   "source": [
    "# Imports"
   ]
  },
  {
   "cell_type": "code",
   "execution_count": 1,
   "metadata": {
    "collapsed": true
   },
   "outputs": [],
   "source": [
    "# Tarea 1\n",
    "import numpy as np\n",
    "import math\n",
    "import os\n",
    "from scipy import ndimage, signal, misc\n",
    "from skimage import io, morphology, filters, segmentation, measure, color\n",
    "from matplotlib import pyplot as plt, patches\n",
    "import pandas as pd\n",
    "%matplotlib inline\n",
    "\n",
    "# Tarea 2\n",
    "from sklearn.neural_network import MLPClassifier\n",
    "from sklearn.externals import  joblib"
   ]
  },
  {
   "cell_type": "markdown",
   "metadata": {},
   "source": [
    "# Refactor Tarea 1\n",
    "En esta parte se trabajará sobre los resultados de la tarea 1. Se extraerán los métodos para el procesamiento de los dígitos que crean los histogramas de orientaciones. \n",
    "\n",
    "Se ha hecho una modificación sobre la tarea anterior, dejando 2x2 celdas por cada imagen (En la tarea anterior se trabajó con 4x4), el procesamiento era mayor, pero en este caso los resultados son más apropiados para el trabajo con todas las imágenes.\n",
    "\n",
    "El procesamiento de los dígitos da como resultado un vector de 36 valores, correspondiente a los 9 bins por 4 celdas en cada imagen. \n",
    "\n",
    "Otra mejora, fue agregar un threshold para aceptar un valor en magnitud. Si la magnitud de cambio entre 2 pixeles no es mayor que dicho umbral, no se toma ese pixel para el histograma. Esto fue una recomendación del profesor.\n",
    "\n",
    "Como se mencionó anteriormente, las imágenes se han reducido a 16x16 para acelerar el proceso de procesamiento en la fase de pruebas. Esto solo para la primera parte del informe, para la versión final, se trabajará con el tamaño completo de la imagen."
   ]
  },
  {
   "cell_type": "code",
   "execution_count": 2,
   "metadata": {
    "collapsed": true
   },
   "outputs": [],
   "source": [
    "nBins = 16\n",
    "magnitudeThreshold = 0.1\n",
    "assignment = \"soft\""
   ]
  },
  {
   "cell_type": "code",
   "execution_count": 3,
   "metadata": {
    "collapsed": true
   },
   "outputs": [],
   "source": [
    "def getOrientAndMags(image):\n",
    "    gradX = filters.sobel_h(image)\n",
    "    gradY = filters.sobel_v(image)\n",
    "    o = (np.arctan2(gradY, gradX)  * 180 / np.pi) % 360\n",
    "    m = np.sqrt(gradY**2 + gradX**2)\n",
    "    return o, m"
   ]
  },
  {
   "cell_type": "code",
   "execution_count": 4,
   "metadata": {
    "collapsed": true
   },
   "outputs": [],
   "source": [
    "def getDigitHistogram(image, bins, assignment = \"soft\", threshold = 0.1):\n",
    "    hist = np.zeros(bins, dtype=np.float32)\n",
    "    w, h = image.shape\n",
    "    \n",
    "    o, m = getOrientAndMags(image)\n",
    "    maxVal = np.max(m) * np.max(o)\n",
    "    \n",
    "    for i in range(w):\n",
    "        for j in range(h):\n",
    "            # Skip those with magnitude lower than 'threshold'.\n",
    "            if(m[i,j] > threshold):\n",
    "                calc = (o[i,j] * m[i,j])\n",
    "                if(assignment == \"hard\"):\n",
    "                    kbin = int(round(calc/maxVal*(bins-1)))\n",
    "                    hist[kbin] += 1.0\n",
    "                else:\n",
    "                    b = calc/maxVal*(bins-1)\n",
    "                    if(math.isnan(b)):\n",
    "                        b = 0\n",
    "                    dist = b - math.floor(b)\n",
    "                    lbin = math.floor(b)\n",
    "                    rbin = math.ceil(b)\n",
    "                    if(dist < 0.5):\n",
    "                        lw = 0.5 - dist\n",
    "                        rw = 1-lw\n",
    "                    else:\n",
    "                        rw = dist - 0.5\n",
    "                        lw = 1 - rw\n",
    "                    hist[lbin] += lw\n",
    "                    hist[rbin] += rw\n",
    "    return hist"
   ]
  },
  {
   "cell_type": "code",
   "execution_count": 5,
   "metadata": {
    "collapsed": true
   },
   "outputs": [],
   "source": [
    "def fixImagePadding(image, cellSize = (4,4)):\n",
    "    w, h = image.shape\n",
    "    cX, cY = cellSize\n",
    "    padX = cX - (w % cX)\n",
    "    padY = cY - (h % cY)\n",
    "    if(padX == cX): padX = 0\n",
    "    if(padY == cY): padY = 0\n",
    "    paddedImage = np.zeros((w+padX, h+padY))\n",
    "    paddedImage.fill(255)\n",
    "    for x in range(w):\n",
    "        for y in range(h):\n",
    "            paddedImage[x,y] = image[x,y]\n",
    "    return paddedImage"
   ]
  },
  {
   "cell_type": "code",
   "execution_count": 6,
   "metadata": {
    "collapsed": true
   },
   "outputs": [],
   "source": [
    "def getImageCells(image, cellSize = (4,4)):\n",
    "    cells = []\n",
    "    w, h = image.shape\n",
    "    cX, cY = cellSize\n",
    "    for x in range(int(w/cX)):\n",
    "        for y in range(int(h/cY)):\n",
    "            cells.append(image[x*cX:((x+1)*cX), y*cY:((y+1)*cY)])\n",
    "\n",
    "    return cells  "
   ]
  },
  {
   "cell_type": "code",
   "execution_count": 7,
   "metadata": {
    "collapsed": true
   },
   "outputs": [],
   "source": [
    "def concatenateCellsDescriptors(cells):\n",
    "    concat = []\n",
    "    for cell in cells:\n",
    "        hist = getDigitHistogram(cell, bins = nBins, assignment = assignment, threshold = magnitudeThreshold)\n",
    "        for h in hist:\n",
    "            concat.append(h)\n",
    "    return concat"
   ]
  },
  {
   "cell_type": "code",
   "execution_count": 8,
   "metadata": {
    "collapsed": true
   },
   "outputs": [],
   "source": [
    "def plotCellDescriptors(concat, cells):\n",
    "    plt.figure(figsize=(30,10))\n",
    "    concat = concatenateCellsDescriptors(cells)\n",
    "    plt.bar(np.arange(len(concat)), concat)\n",
    "    plt.show()"
   ]
  },
  {
   "cell_type": "code",
   "execution_count": 9,
   "metadata": {
    "collapsed": true
   },
   "outputs": [],
   "source": [
    "def resizeAndGetDigitHistogramDescriptor(digitFilename, w = 0, h = 0, cW = 0, cH = 0, verbose = True):\n",
    "    digit=io.imread(digitFilename)\n",
    "    digitImage = digit\n",
    "    if(w>0 and h >0):\n",
    "        digit = misc.imresize(digit, (w, h))\n",
    "    if(cW>0 and cH>0):\n",
    "        digit = fixImagePadding(digit, (cW, cH))\n",
    "    else:\n",
    "        cW, cH = digit.shape\n",
    "    cells = getImageCells(digit, (cW, cH))\n",
    "    concat = concatenateCellsDescriptors(cells)\n",
    "    \n",
    "    if(verbose):\n",
    "        plt.imshow(digit, cmap=\"gray\")\n",
    "        print(\"ImageFilename:\", digitFilename)\n",
    "        print(\"original:\", digitImage.shape, \"Resize and padded:\", digit.shape)\n",
    "        print(\"Concatenated histogram length:\", len(concat))\n",
    "        plotCellDescriptors(concat, cells)\n",
    "    \n",
    "    return np.array(concat), cells"
   ]
  },
  {
   "cell_type": "code",
   "execution_count": 10,
   "metadata": {
    "scrolled": false
   },
   "outputs": [
    {
     "name": "stdout",
     "output_type": "stream",
     "text": [
      "ImageFilename: ./digits_K/train/chr_0/img001-00001.png\n",
      "original: (128, 128) Resize and padded: (128, 128)\n",
      "Concatenated histogram length: 32\n"
     ]
    },
    {
     "data": {
      "image/png": "[encoded data removed]",
      "text/plain": [
       "<matplotlib.figure.Figure at 0x61aa9b0>"
      ]
     },
     "metadata": {},
     "output_type": "display_data"
    },
    {
     "data": {
      "image/png": "[encoded data removed]",
      "text/plain": [
       "<matplotlib.figure.Figure at 0xd4164e0>"
      ]
     },
     "metadata": {},
     "output_type": "display_data"
    }
   ],
   "source": [
    "sampleDigitFilename = \"./digits_K/train/chr_0/img001-00001.png\"\n",
    "concat, cells = resizeAndGetDigitHistogramDescriptor(sampleDigitFilename, 0,0,128,64,verbose = True)"
   ]
  },
  {
   "cell_type": "code",
   "execution_count": 11,
   "metadata": {
    "scrolled": false
   },
   "outputs": [
    {
     "name": "stdout",
     "output_type": "stream",
     "text": [
      "ImageFilename: ./digits_K/train/chr_1/img002-00004.png\n",
      "original: (128, 128) Resize and padded: (128, 128)\n",
      "Concatenated histogram length: 32\n"
     ]
    },
    {
     "data": {
      "image/png": "[encoded data removed]",
      "text/plain": [
       "<matplotlib.figure.Figure at 0xd563898>"
      ]
     },
     "metadata": {},
     "output_type": "display_data"
    },
    {
     "data": {
      "image/png": "[encoded data removed]",
      "text/plain": [
       "<matplotlib.figure.Figure at 0xd5cc940>"
      ]
     },
     "metadata": {},
     "output_type": "display_data"
    }
   ],
   "source": [
    "sampleDigitFilename = \"./digits_K/train/chr_1/img002-00004.png\"\n",
    "concat, cells = resizeAndGetDigitHistogramDescriptor(sampleDigitFilename, 0,0,128,64,verbose = True)"
   ]
  },
  {
   "cell_type": "code",
   "execution_count": 12,
   "metadata": {
    "scrolled": false
   },
   "outputs": [
    {
     "name": "stdout",
     "output_type": "stream",
     "text": [
      "ImageFilename: ./digits_K/train/chr_2/img003-00003.png\n",
      "original: (128, 128) Resize and padded: (128, 128)\n",
      "Concatenated histogram length: 32\n"
     ]
    },
    {
     "data": {
      "image/png": "[encoded data removed]",
      "text/plain": [
       "<matplotlib.figure.Figure at 0xd575f98>"
      ]
     },
     "metadata": {},
     "output_type": "display_data"
    },
    {
     "data": {
      "image/png": "[encoded data removed]",
      "text/plain": [
       "<matplotlib.figure.Figure at 0xdaf50b8>"
      ]
     },
     "metadata": {},
     "output_type": "display_data"
    }
   ],
   "source": [
    "sampleDigitFilename = \"./digits_K/train/chr_2/img003-00003.png\"\n",
    "concat, cells = resizeAndGetDigitHistogramDescriptor(sampleDigitFilename, 0,0,128,64,verbose = True)"
   ]
  },
  {
   "cell_type": "code",
   "execution_count": 13,
   "metadata": {},
   "outputs": [
    {
     "name": "stdout",
     "output_type": "stream",
     "text": [
      "ImageFilename: ./digits_K/train/chr_6/img007-00001.png\n",
      "original: (128, 128) Resize and padded: (128, 128)\n",
      "Concatenated histogram length: 32\n"
     ]
    },
    {
     "data": {
      "image/png": "[encoded data removed]",
      "text/plain": [
       "<matplotlib.figure.Figure at 0xd6dc550>"
      ]
     },
     "metadata": {},
     "output_type": "display_data"
    },
    {
     "data": {
      "image/png": "[encoded data removed]",
      "text/plain": [
       "<matplotlib.figure.Figure at 0xdffb7f0>"
      ]
     },
     "metadata": {},
     "output_type": "display_data"
    }
   ],
   "source": [
    "sampleDigitFilename = \"./digits_K/train/chr_6/img007-00001.png\"\n",
    "concat, cells = resizeAndGetDigitHistogramDescriptor(sampleDigitFilename, 0,0,128,64,verbose = True)"
   ]
  },
  {
   "cell_type": "code",
   "execution_count": 14,
   "metadata": {
    "scrolled": false
   },
   "outputs": [
    {
     "name": "stdout",
     "output_type": "stream",
     "text": [
      "ImageFilename: ./digits_K/train/chr_9/img010-00001.png\n",
      "original: (128, 128) Resize and padded: (128, 128)\n",
      "Concatenated histogram length: 32\n"
     ]
    },
    {
     "data": {
      "image/png": "[encoded data removed]",
      "text/plain": [
       "<matplotlib.figure.Figure at 0xdfa4dd8>"
      ]
     },
     "metadata": {},
     "output_type": "display_data"
    },
    {
     "data": {
      "image/png": "[encoded data removed]",
      "text/plain": [
       "<matplotlib.figure.Figure at 0xe05f518>"
      ]
     },
     "metadata": {},
     "output_type": "display_data"
    }
   ],
   "source": [
    "sampleDigitFilename = \"./digits_K/train/chr_9/img010-00001.png\"\n",
    "concat, cells = resizeAndGetDigitHistogramDescriptor(sampleDigitFilename, 0,0,128,64,verbose = True)"
   ]
  },
  {
   "cell_type": "code",
   "execution_count": 15,
   "metadata": {},
   "outputs": [
    {
     "data": {
      "text/plain": [
       "array([ 129.94969177,   59.92780304,   39.65537643,  112.78340912,\n",
       "         71.13985443,   12.53761101,   97.59048462,   39.88760376,\n",
       "         21.19080734,   26.43832016,   24.10162926,   30.53834534,\n",
       "          5.64153337,    3.73558831,    3.34693122,    0.5350154 ,\n",
       "        149.23851013,  113.07494354,   97.58656311,   81.20097351,\n",
       "         92.7702713 ,    4.73376179,   95.75830078,   42.0747757 ,\n",
       "          1.56189251,    1.10362148,    9.65533066,   61.31290817,\n",
       "          2.37156343,    1.55651724,    0.        ,    0.        ], dtype=float32)"
      ]
     },
     "execution_count": 15,
     "metadata": {},
     "output_type": "execute_result"
    }
   ],
   "source": [
    "histogram, _ = resizeAndGetDigitHistogramDescriptor(sampleDigitFilename, 0, 0,  128,64, verbose = False)\n",
    "histogram"
   ]
  },
  {
   "cell_type": "code",
   "execution_count": 16,
   "metadata": {},
   "outputs": [],
   "source": [
    "def getNormalizedHistogram(histogram):\n",
    "    histSum = np.sum(histogram)\n",
    "    return histogram/histSum"
   ]
  },
  {
   "cell_type": "code",
   "execution_count": 17,
   "metadata": {},
   "outputs": [
    {
     "data": {
      "text/plain": [
       "array([ 0.09068366,  0.04181982,  0.02767298,  0.0787044 ,  0.049644  ,\n",
       "        0.00874921,  0.06810223,  0.02783503,  0.01478772,  0.01844963,\n",
       "        0.016819  ,  0.02131078,  0.00393687,  0.00260683,  0.00233561,\n",
       "        0.00037335,  0.10414411,  0.07890785,  0.06809948,  0.05666502,\n",
       "        0.0647385 ,  0.00330339,  0.06682365,  0.02936132,  0.00108995,\n",
       "        0.00077015,  0.00673784,  0.0427864 ,  0.00165496,  0.00108619,\n",
       "        0.        ,  0.        ], dtype=float32)"
      ]
     },
     "execution_count": 17,
     "metadata": {},
     "output_type": "execute_result"
    }
   ],
   "source": [
    "getNormalizedHistogram(histogram)"
   ]
  },
  {
   "cell_type": "markdown",
   "metadata": {},
   "source": [
    "# Imagen a Vector Binarizado\n",
    "Se convertirá a la imagen a 28x28 pixeles, se aplicará un Threshold Otsu y se hará un Reshape a un vector de una sola fila."
   ]
  },
  {
   "cell_type": "code",
   "execution_count": 18,
   "metadata": {
    "collapsed": true
   },
   "outputs": [],
   "source": [
    "def getImageVector(digitFilename, w = 28, h = 28):\n",
    "    digitImage=io.imread(digitFilename)\n",
    "    digit = misc.imresize(digitImage, (w, h))\n",
    "    th=filters.threshold_otsu(digit*0.95)\n",
    "    digit = digit > th\n",
    "    return np.reshape(digit, w*h)"
   ]
  },
  {
   "cell_type": "code",
   "execution_count": 19,
   "metadata": {},
   "outputs": [
    {
     "data": {
      "text/plain": [
       "array([ True,  True,  True,  True,  True, False,  True,  True,  True,\n",
       "        True,  True,  True, False,  True,  True,  True,  True,  True,\n",
       "        True, False,  True,  True,  True,  True,  True,  True, False,\n",
       "        True,  True,  True,  True,  True,  True, False,  True,  True,\n",
       "        True,  True,  True,  True], dtype=bool)"
      ]
     },
     "execution_count": 19,
     "metadata": {},
     "output_type": "execute_result"
    }
   ],
   "source": [
    "sampleDigitFilename = \"./digits_K/train/chr_0/img001-00001.png\"\n",
    "getImageVector(sampleDigitFilename)[::20]"
   ]
  },
  {
   "cell_type": "markdown",
   "metadata": {},
   "source": [
    "# Entrenamiento de la MLP\n",
    "Una vez que se tiene completo el procesamiento de los dígitos, será necesario entrenar la Red Neuronal."
   ]
  },
  {
   "cell_type": "markdown",
   "metadata": {},
   "source": [
    "## Get Training Images"
   ]
  },
  {
   "cell_type": "code",
   "execution_count": 20,
   "metadata": {
    "collapsed": true
   },
   "outputs": [],
   "source": [
    "def getfiles(folder, extension):\n",
    "    images = []\n",
    "    for dirpath, dirnames, filenames in os.walk(folder):\n",
    "        for filename in [f for f in filenames if f.endswith(extension)]:\n",
    "            images.append(os.path.join(dirpath, filename))\n",
    "    return images"
   ]
  },
  {
   "cell_type": "code",
   "execution_count": 21,
   "metadata": {
    "collapsed": true
   },
   "outputs": [],
   "source": [
    "def getTrainFiles():\n",
    "    return getfiles(\"./digits_K/train/\", \".png\")\n",
    "\n",
    "def getValidFiles():\n",
    "    return getfiles(\"./digits_K/valid/\", \".png\")"
   ]
  },
  {
   "cell_type": "code",
   "execution_count": 22,
   "metadata": {},
   "outputs": [
    {
     "name": "stdout",
     "output_type": "stream",
     "text": [
      "Train: 6600 Valid: 2200\n"
     ]
    }
   ],
   "source": [
    "trainImageFilenames = getTrainFiles()\n",
    "validImageFilenames = getValidFiles()\n",
    "print(\"Train:\", len(trainImageFilenames), \"Valid:\", len(validImageFilenames))"
   ]
  },
  {
   "cell_type": "code",
   "execution_count": 23,
   "metadata": {},
   "outputs": [
    {
     "data": {
      "text/plain": [
       "'./digits_K/train/chr_0\\\\img001-00001.png'"
      ]
     },
     "execution_count": 23,
     "metadata": {},
     "output_type": "execute_result"
    }
   ],
   "source": [
    "trainImageFilenames[0]"
   ]
  },
  {
   "cell_type": "markdown",
   "metadata": {},
   "source": [
    "## Create Labels for Test/Valid Images"
   ]
  },
  {
   "cell_type": "code",
   "execution_count": 24,
   "metadata": {
    "collapsed": true
   },
   "outputs": [],
   "source": [
    "def getImageLabel(filename, index):\n",
    "    return filename[index]\n",
    "\n",
    "def getTestImageLabel(filename):\n",
    "    return getImageLabel(filename, 21)\n",
    "\n",
    "def getValidImageLabel(filename):\n",
    "    return getImageLabel(filename, 21)"
   ]
  },
  {
   "cell_type": "code",
   "execution_count": 25,
   "metadata": {
    "scrolled": true
   },
   "outputs": [
    {
     "data": {
      "text/plain": [
       "'0'"
      ]
     },
     "execution_count": 25,
     "metadata": {},
     "output_type": "execute_result"
    }
   ],
   "source": [
    "getTestImageLabel(trainImageFilenames[0])"
   ]
  },
  {
   "cell_type": "code",
   "execution_count": 26,
   "metadata": {
    "collapsed": true
   },
   "outputs": [],
   "source": [
    "def toLabelVector(values):\n",
    "    return pd.get_dummies(values).values"
   ]
  },
  {
   "cell_type": "code",
   "execution_count": 27,
   "metadata": {
    "collapsed": true
   },
   "outputs": [],
   "source": [
    "def getFileSet(filenames, function):\n",
    "    for filename in filenames:\n",
    "        result = function(filename)\n",
    "        yield result\n",
    "        \n",
    "def getTestFileLabels(filenames):\n",
    "    return toLabelVector(getFileSet(filenames, getTestImageLabel))\n",
    "\n",
    "def getValidFileLabels(filenames):\n",
    "    return toLabelVector(getFileSet(filenames, getValidImageLabel))"
   ]
  },
  {
   "cell_type": "code",
   "execution_count": 28,
   "metadata": {},
   "outputs": [
    {
     "data": {
      "text/plain": [
       "array([[1, 0, 0, 0, 0, 0, 0, 0, 0, 0, 0],\n",
       "       [0, 1, 0, 0, 0, 0, 0, 0, 0, 0, 0],\n",
       "       [0, 0, 1, 0, 0, 0, 0, 0, 0, 0, 0],\n",
       "       [0, 0, 0, 1, 0, 0, 0, 0, 0, 0, 0],\n",
       "       [0, 0, 0, 0, 1, 0, 0, 0, 0, 0, 0],\n",
       "       [0, 0, 0, 0, 0, 1, 0, 0, 0, 0, 0],\n",
       "       [0, 0, 0, 0, 0, 0, 1, 0, 0, 0, 0],\n",
       "       [0, 0, 0, 0, 0, 0, 0, 1, 0, 0, 0],\n",
       "       [0, 0, 0, 0, 0, 0, 0, 0, 1, 0, 0],\n",
       "       [0, 0, 0, 0, 0, 0, 0, 0, 0, 1, 0],\n",
       "       [0, 0, 0, 0, 0, 0, 0, 0, 0, 0, 1]], dtype=uint8)"
      ]
     },
     "execution_count": 28,
     "metadata": {},
     "output_type": "execute_result"
    }
   ],
   "source": [
    "train_target = getTestFileLabels(trainImageFilenames)\n",
    "train_target[::659]"
   ]
  },
  {
   "cell_type": "code",
   "execution_count": 29,
   "metadata": {},
   "outputs": [
    {
     "data": {
      "text/plain": [
       "array([[1, 0, 0, 0, 0, 0, 0, 0, 0, 0, 0],\n",
       "       [0, 1, 0, 0, 0, 0, 0, 0, 0, 0, 0],\n",
       "       [0, 0, 1, 0, 0, 0, 0, 0, 0, 0, 0],\n",
       "       [0, 0, 0, 1, 0, 0, 0, 0, 0, 0, 0],\n",
       "       [0, 0, 0, 0, 1, 0, 0, 0, 0, 0, 0],\n",
       "       [0, 0, 0, 0, 0, 1, 0, 0, 0, 0, 0],\n",
       "       [0, 0, 0, 0, 0, 0, 1, 0, 0, 0, 0],\n",
       "       [0, 0, 0, 0, 0, 0, 0, 1, 0, 0, 0],\n",
       "       [0, 0, 0, 0, 0, 0, 0, 0, 1, 0, 0],\n",
       "       [0, 0, 0, 0, 0, 0, 0, 0, 0, 1, 0],\n",
       "       [0, 0, 0, 0, 0, 0, 0, 0, 0, 0, 1]], dtype=uint8)"
      ]
     },
     "execution_count": 29,
     "metadata": {},
     "output_type": "execute_result"
    }
   ],
   "source": [
    "test_target = getValidFileLabels(validImageFilenames)\n",
    "test_target[::219]"
   ]
  },
  {
   "cell_type": "markdown",
   "metadata": {},
   "source": [
    "## Test Set Assembly"
   ]
  },
  {
   "cell_type": "code",
   "execution_count": 30,
   "metadata": {
    "collapsed": true
   },
   "outputs": [],
   "source": [
    "def getHistogram(filename):\n",
    "    histogram, _ = resizeAndGetDigitHistogramDescriptor(filename, 16, 16, 8, 16, verbose = False)\n",
    "    #return getNormalizedHistogram(histogram)\n",
    "    return histogram\n",
    "\n",
    "def getHistogramFileSet(filenames):\n",
    "    return getFileSet(filenames, getHistogram)\n",
    "\n",
    "def getVectorFileSet(filenames):\n",
    "    return getFileSet(filenames, getImageVector)"
   ]
  },
  {
   "cell_type": "code",
   "execution_count": 31,
   "metadata": {},
   "outputs": [],
   "source": [
    "histogram_train_data = np.stack(getHistogramFileSet(trainImageFilenames))"
   ]
  },
  {
   "cell_type": "code",
   "execution_count": 192,
   "metadata": {
    "collapsed": true
   },
   "outputs": [],
   "source": [
    "vector_train_data = np.stack(getVectorFileSet(trainImageFilenames))"
   ]
  },
  {
   "cell_type": "markdown",
   "metadata": {},
   "source": [
    "# Train Neural Network"
   ]
  },
  {
   "cell_type": "code",
   "execution_count": 187,
   "metadata": {
    "collapsed": true
   },
   "outputs": [],
   "source": [
    "vector_test_data = np.stack(getVectorFileSet(validImageFilenames))"
   ]
  },
  {
   "cell_type": "code",
   "execution_count": 34,
   "metadata": {
    "collapsed": true
   },
   "outputs": [],
   "source": [
    "histogram_test_data = np.stack(getHistogramFileSet(validImageFilenames))"
   ]
  },
  {
   "cell_type": "code",
   "execution_count": 188,
   "metadata": {
    "collapsed": true
   },
   "outputs": [],
   "source": [
    "layerSize = 50\n",
    "activation = \"relu\""
   ]
  },
  {
   "cell_type": "code",
   "execution_count": 189,
   "metadata": {
    "collapsed": true
   },
   "outputs": [],
   "source": [
    "mlp = MLPClassifier(activation=activation, hidden_layer_sizes=(layerSize,), max_iter=5000, alpha=1e-4, solver='sgd', verbose=0, tol=1e-4, learning_rate_init=.01)"
   ]
  },
  {
   "cell_type": "code",
   "execution_count": 193,
   "metadata": {},
   "outputs": [
    {
     "data": {
      "text/plain": [
       "MLPClassifier(activation='relu', alpha=0.0001, batch_size='auto', beta_1=0.9,\n",
       "       beta_2=0.999, early_stopping=False, epsilon=1e-08,\n",
       "       hidden_layer_sizes=(50,), learning_rate='constant',\n",
       "       learning_rate_init=0.01, max_iter=5000, momentum=0.9,\n",
       "       nesterovs_momentum=True, power_t=0.5, random_state=None,\n",
       "       shuffle=True, solver='sgd', tol=0.0001, validation_fraction=0.1,\n",
       "       verbose=0, warm_start=False)"
      ]
     },
     "execution_count": 193,
     "metadata": {},
     "output_type": "execute_result"
    }
   ],
   "source": [
    "mlp.fit(vector_train_data, train_target)"
   ]
  },
  {
   "cell_type": "markdown",
   "metadata": {},
   "source": [
    "# Validate Results"
   ]
  },
  {
   "cell_type": "code",
   "execution_count": 194,
   "metadata": {
    "collapsed": true
   },
   "outputs": [],
   "source": [
    "score = int(round(mlp.score(vector_test_data, test_target)*100))"
   ]
  },
  {
   "cell_type": "code",
   "execution_count": 195,
   "metadata": {},
   "outputs": [
    {
     "name": "stdout",
     "output_type": "stream",
     "text": [
      "Testing accuracy: 94 \n"
     ]
    }
   ],
   "source": [
    "print('Testing accuracy: {} '.format(score)) "
   ]
  },
  {
   "cell_type": "code",
   "execution_count": 196,
   "metadata": {},
   "outputs": [
    {
     "data": {
      "text/plain": [
       "['mlp_orientation_relu_50_score-94_.model']"
      ]
     },
     "execution_count": 196,
     "metadata": {},
     "output_type": "execute_result"
    }
   ],
   "source": [
    "joblib.dump(mlp, 'mlp_orientation_'+activation+'_'+str(layerSize)+'_score-'+str(score)+'_'+'.model')"
   ]
  },
  {
   "cell_type": "markdown",
   "metadata": {},
   "source": [
    "# Probar con RUT"
   ]
  },
  {
   "cell_type": "code",
   "execution_count": 197,
   "metadata": {
    "collapsed": true
   },
   "outputs": [],
   "source": [
    "def getImageDigits(imageFilename):\n",
    "    digits = []\n",
    "    #Read\n",
    "    image=io.imread(imageFilename)\n",
    "    #Threshold\n",
    "    th=filters.threshold_otsu(image*0.95)\n",
    "    im_bin = image > th\n",
    "    \n",
    "    #Regions:\n",
    "    mlabels, nlabels = morphology.label(1-im_bin, connectivity=1, return_num=True)\n",
    "    regions = measure.regionprops(mlabels)\n",
    "    \n",
    "    #Regions of Interest\n",
    "    roiList = []\n",
    "    for i in range(1, nlabels + 1):\n",
    "        px, py = ndimage.find_objects(mlabels==i)[0]\n",
    "        roiList.append((px,py))\n",
    "        \n",
    "    #Sort regions by position:\n",
    "    sortedRoi = sorted(roiList, key= lambda x: x[1])\n",
    "    \n",
    "    # Filter small Regions, Pad results:\n",
    "    for j in range(nlabels):\n",
    "        (px, py) = sortedRoi[j]\n",
    "        if(getSliceTupleArea((px,py))>15):\n",
    "            roi = im_bin[px, py].astype(int)*255\n",
    "            #roi = np.pad(roi, 2, mode='constant', constant_values=1)\n",
    "            digits.append(roi)\n",
    "    \n",
    "    #return\n",
    "    return digits\n"
   ]
  },
  {
   "cell_type": "code",
   "execution_count": 198,
   "metadata": {
    "collapsed": true
   },
   "outputs": [],
   "source": [
    "def getSliceTupleArea(sliceTuple):\n",
    "    return (sliceTuple[0].stop - sliceTuple[0].start) * (sliceTuple[1].stop - sliceTuple[1].start)"
   ]
  },
  {
   "cell_type": "code",
   "execution_count": 199,
   "metadata": {
    "collapsed": true
   },
   "outputs": [],
   "source": [
    "def resizeAndGetDigitHistogramDescriptor(digit, w = 0, h = 0, cW = 0, cH = 0):\n",
    "    digitImage = digit\n",
    "    if(w>0 and h >0):\n",
    "        digit = misc.imresize(digit, (w, h))\n",
    "    if(cW>0 and cH>0):\n",
    "        digit = fixImagePadding(digit, (cW, cH))\n",
    "    else:\n",
    "        cW, cH = digit.shape\n",
    "    cells = getImageCells(digit, (cW, cH))\n",
    "    concat = concatenateCellsDescriptors(cells)\n",
    "    \n",
    "    return np.array(concat), cells"
   ]
  },
  {
   "cell_type": "code",
   "execution_count": 204,
   "metadata": {},
   "outputs": [
    {
     "name": "stdout",
     "output_type": "stream",
     "text": [
      "[[0 0 0 1 0 0 0 1 0 0 0]]\n",
      "[[0 0 0 0 0 0 0 1 0 0 1]]\n",
      "[[0 1 0 0 1 0 0 0 0 0 0]]\n",
      "[[0 0 0 0 0 0 0 0 0 1 1]]\n",
      "[[0 0 1 1 0 0 0 1 0 0 0]]\n",
      "[[0 0 0 1 0 0 0 1 0 0 0]]\n",
      "[[0 0 0 0 0 0 0 1 0 0 0]]\n",
      "[[0 0 0 1 0 0 0 1 0 1 0]]\n",
      "[[0 0 0 0 0 1 1 0 0 0 1]]\n"
     ]
    },
    {
     "name": "stderr",
     "output_type": "stream",
     "text": [
      "c:\\anaconda3\\lib\\site-packages\\sklearn\\utils\\validation.py:395: DeprecationWarning: Passing 1d arrays as data is deprecated in 0.17 and will raise ValueError in 0.19. Reshape your data either using X.reshape(-1, 1) if your data has a single feature or X.reshape(1, -1) if it contains a single sample.\n",
      "  DeprecationWarning)\n",
      "c:\\anaconda3\\lib\\site-packages\\sklearn\\utils\\validation.py:395: DeprecationWarning: Passing 1d arrays as data is deprecated in 0.17 and will raise ValueError in 0.19. Reshape your data either using X.reshape(-1, 1) if your data has a single feature or X.reshape(1, -1) if it contains a single sample.\n",
      "  DeprecationWarning)\n",
      "c:\\anaconda3\\lib\\site-packages\\sklearn\\utils\\validation.py:395: DeprecationWarning: Passing 1d arrays as data is deprecated in 0.17 and will raise ValueError in 0.19. Reshape your data either using X.reshape(-1, 1) if your data has a single feature or X.reshape(1, -1) if it contains a single sample.\n",
      "  DeprecationWarning)\n",
      "c:\\anaconda3\\lib\\site-packages\\sklearn\\utils\\validation.py:395: DeprecationWarning: Passing 1d arrays as data is deprecated in 0.17 and will raise ValueError in 0.19. Reshape your data either using X.reshape(-1, 1) if your data has a single feature or X.reshape(1, -1) if it contains a single sample.\n",
      "  DeprecationWarning)\n",
      "c:\\anaconda3\\lib\\site-packages\\sklearn\\utils\\validation.py:395: DeprecationWarning: Passing 1d arrays as data is deprecated in 0.17 and will raise ValueError in 0.19. Reshape your data either using X.reshape(-1, 1) if your data has a single feature or X.reshape(1, -1) if it contains a single sample.\n",
      "  DeprecationWarning)\n",
      "c:\\anaconda3\\lib\\site-packages\\sklearn\\utils\\validation.py:395: DeprecationWarning: Passing 1d arrays as data is deprecated in 0.17 and will raise ValueError in 0.19. Reshape your data either using X.reshape(-1, 1) if your data has a single feature or X.reshape(1, -1) if it contains a single sample.\n",
      "  DeprecationWarning)\n",
      "c:\\anaconda3\\lib\\site-packages\\sklearn\\utils\\validation.py:395: DeprecationWarning: Passing 1d arrays as data is deprecated in 0.17 and will raise ValueError in 0.19. Reshape your data either using X.reshape(-1, 1) if your data has a single feature or X.reshape(1, -1) if it contains a single sample.\n",
      "  DeprecationWarning)\n",
      "c:\\anaconda3\\lib\\site-packages\\sklearn\\utils\\validation.py:395: DeprecationWarning: Passing 1d arrays as data is deprecated in 0.17 and will raise ValueError in 0.19. Reshape your data either using X.reshape(-1, 1) if your data has a single feature or X.reshape(1, -1) if it contains a single sample.\n",
      "  DeprecationWarning)\n",
      "c:\\anaconda3\\lib\\site-packages\\sklearn\\utils\\validation.py:395: DeprecationWarning: Passing 1d arrays as data is deprecated in 0.17 and will raise ValueError in 0.19. Reshape your data either using X.reshape(-1, 1) if your data has a single feature or X.reshape(1, -1) if it contains a single sample.\n",
      "  DeprecationWarning)\n"
     ]
    }
   ],
   "source": [
    "digits = getImageDigits(\"./test-images/rut_1.png\")\n",
    "for digit in digits:\n",
    "    digit = misc.imresize(digit, (28, 28))\n",
    "    th=filters.threshold_otsu(digit*0.95)\n",
    "    digit = digit > th\n",
    "    digit = np.reshape(digit, 28*28)\n",
    "    #histogram, _ = resizeAndGetDigitHistogramDescriptor(digit, 128, 32, 32, 32)\n",
    "    digitScore = mlp.predict(digit)\n",
    "    print(digitScore)"
   ]
  },
  {
   "cell_type": "markdown",
   "metadata": {},
   "source": [
    "# Conclusiones y Resultados\n",
    "\n",
    "En este proyecto se han entrenado varias redes neuronales con distintos parámetros y distintos Feature Vectors (Histograma y Vectorización Binaria + Reducción).\n",
    "\n",
    "Se puede apreciar de los resultados, que trabajar con una red con menos neuronas, conlleva en la mayoría de los casos a peores resultados pero tiempos de entrenamientos mayores.\n",
    "\n",
    "Al entrenar con 10 neuronas, muchas veces el entrenamiento concluía de forma abrupta al llegar a avanzar bajo la tolerancia. Esto sin embargo, como se puede apreciar en los modelos de entrenamiento, es variable ya que como se vió en clases, los pesos iniciales determinan en gran medida el entrenamiento de la red. Al tomarse estos al azar, puede llegar a encontrarse un mínimo global o un mínimo local. Al entrenarse la red con más neuronas, la probabilidad de encontrar máximos globales es más alta.\n",
    "\n",
    "Algunos resultados obtenidos (utilizando el método de los vectores) que apoyan lo anterior fueron:\n",
    "- RELU, 10 neuronas, 29%\n",
    "- RELU, 10 neuronas, 45%\n",
    "- RELU, 10 neuronas, 82%\n",
    "- RELU, 10 neuronas, 85%\n",
    "\n",
    "Los resultados sobre las funciones de activación no fueron del todo desicivos. Se puede apreciar que varios intentos de entrenamiento con 10 neuronas y distintas funciones de activación fueron diferentes:\n",
    "- Log  ~0%-48%, \n",
    "- RELU ~30%-85% \n",
    "- TANH ~0%-52%\n",
    "\n",
    "De todas formas, como se mencionó anteriormente, estos podrían bien ser casualidad ya que se encontró que los resultados fueron bastante similares con 50 neuronas y se podría estimar que los tiempos de entrenamiento también son similares. Se considera que se requeriría de ejemplos con más clases y más dimensiones para determinar correctamente cuál de las tres funciones de activación entrega mejores resultados.\n",
    "\n",
    "Los resultados obtenidos para los dos métodos son mejores a los obtenidos en la tarea 1. Esto principalmente a que se tenían más ejemplos para entrenamiento que en la vez pasada. En la tarea 1 se entrenó una clasificador con 40 ejemplos, en este caso 6600 ejemplos para pruebas. De lo mismo, sin una experimentación más amplia no se podría indicar directamente si para esta aplicación en específico, un resultado es mejor que otro.\n",
    "\n",
    "Un problema que se tuvo fue entrenar con el vector de orientaciones. Los resultados no fueron para nada satisfactorios.\n",
    "\n",
    "Los mejores resultados que se tuvieron con éste método fueron:\n",
    "- Logistic, 50, 61%\n",
    "- RELU, 50, 55%\n",
    "- TanH, 50, 60%\n",
    "\n",
    "Lo anterior se supone por varias cosas:\n",
    "Los vectores de entrada eran muchos más pequeños, la imagen vectorizada era un vector de entrada de 768 valores, mientras que en el caso de las orientaciones se trabajó con 16 bins y 2 celdas, osea, 32 valores de entrada. \n",
    "\n",
    "Entrenar la red neuronal tomó mucho más tiempo. Si bien esto no afecta en los resultados, finalmente, para poder entregar resultados se trabajó con una reducción del tamaño de las imágenes. Esto en parte debido a que el procesamiento de las imágenes trabajaba con imágenes mucho más grandes (128x128 pixeles). Se modificó el código de la tarea 1 según los comentarios realizados post-entrega, sin embargo, los resultados sin reducir los tamaños de las imágenes requirieron más tiempo y de esta manera, no se pudo experimentar tanto como con el otro método. "
   ]
  }
 ],
 "metadata": {
  "kernelspec": {
   "display_name": "Python [default]",
   "language": "python",
   "name": "python3"
  },
  "language_info": {
   "codemirror_mode": {
    "name": "ipython",
    "version": 3
   },
   "file_extension": ".py",
   "mimetype": "text/x-python",
   "name": "python",
   "nbconvert_exporter": "python",
   "pygments_lexer": "ipython3",
   "version": "3.5.3"
  }
 },
 "nbformat": 4,
 "nbformat_minor": 2
}
